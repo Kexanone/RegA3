{
 "cells": [
  {
   "cell_type": "code",
   "execution_count": 1,
   "metadata": {},
   "outputs": [],
   "source": [
    "%matplotlib widget\n",
    "from IPython.display import display, Markdown\n",
    "import os\n",
    "import numpy as np\n",
    "import pandas as pd\n",
    "from sklearn.datasets import load_boston\n",
    "from sklearn.preprocessing import PolynomialFeatures\n",
    "from sklearn.linear_model._base import LinearModel\n",
    "from sklearn.linear_model import LinearRegression, Ridge, Lasso\n",
    "from sklearn.pipeline import Pipeline\n",
    "from sklearn.model_selection import cross_val_score, train_test_split\n",
    "from sklearn.metrics import make_scorer, r2_score, mean_squared_error, mean_absolute_error\n",
    "import matplotlib.pyplot as plt\n",
    "from rega3 import export_estimator\n",
    "\n",
    "polyfeat = PolynomialFeatures(degree=2)\n",
    "linreg = LinearRegression()\n",
    "pipe = Pipeline([('polyfeat', polyfeat), ('linreg', linreg)])"
   ]
  },
  {
   "cell_type": "code",
   "execution_count": 2,
   "metadata": {},
   "outputs": [
    {
     "data": {
      "text/markdown": [
       "### Load Data\n",
       "---"
      ],
      "text/plain": [
       "<IPython.core.display.Markdown object>"
      ]
     },
     "metadata": {},
     "output_type": "display_data"
    },
    {
     "name": "stdout",
     "output_type": "stream",
     "text": [
      "X.shape:\t(29, 6)\n",
      "X_train.shape:\t(17, 6)\n",
      "X_test.shape:\t(12, 6)\n"
     ]
    }
   ],
   "source": [
    "display(Markdown('### Load Data\\n---'))\n",
    "df = pd.read_csv('ChosunOne_ArtilleryData.csv')\n",
    "X = df.drop(['Firing Angle', 'Firing Mode', 'Weapon Platform'], axis=1).values\n",
    "y = df['Firing Angle'].values\n",
    "X_train, X_test, y_train, y_test = train_test_split(X, y, test_size=0.4, random_state=0)\n",
    "print('X.shape:', X.shape, sep='\\t')\n",
    "print('X_train.shape:', X_train.shape, sep='\\t')\n",
    "print('X_test.shape:', X_test.shape, sep='\\t')"
   ]
  },
  {
   "cell_type": "code",
   "execution_count": 3,
   "metadata": {},
   "outputs": [
    {
     "data": {
      "text/markdown": [
       "### Fit Data\n",
       "---"
      ],
      "text/plain": [
       "<IPython.core.display.Markdown object>"
      ]
     },
     "metadata": {},
     "output_type": "display_data"
    },
    {
     "name": "stdout",
     "output_type": "stream",
     "text": [
      "RMSE train: 0.572, test: 0.693\n",
      "R^2 train: 0.996, test: 0.995\n",
      "Mean and std of CV MAE: 3.978708898909887 2.1380060781855637\n"
     ]
    }
   ],
   "source": [
    "display(Markdown('### Fit Data\\n---'))\n",
    "pipe.fit(X_train, y_train)\n",
    "y_train_pred = pipe.predict(X_train)\n",
    "y_test_pred = pipe.predict(X_test)\n",
    "print('RMSE train: %.3f, test: %.3f' % (np.sqrt(mean_squared_error(y_train, y_train_pred)), np.sqrt(mean_squared_error(y_test, y_test_pred))))\n",
    "print('R^2 train: %.3f, test: %.3f' % (r2_score(y_train, y_train_pred), r2_score(y_test, y_test_pred)))\n",
    "scores = cross_val_score(pipe, X, y, scoring=make_scorer(mean_absolute_error), cv=5)\n",
    "print('Mean and std of CV MAE:', np.mean(scores), np.std(scores))"
   ]
  },
  {
   "cell_type": "code",
   "execution_count": 4,
   "metadata": {},
   "outputs": [
    {
     "data": {
      "text/markdown": [
       "### Export Estimator\n",
       "---"
      ],
      "text/plain": [
       "<IPython.core.display.Markdown object>"
      ]
     },
     "metadata": {},
     "output_type": "display_data"
    },
    {
     "data": {
      "text/markdown": [
       "```c++\n",
       "_test_estimator_polyfeat = {[\n",
       "    1, (_this#0), (_this#1), (_this#2), (_this#3), (_this#4), (_this#5),\n",
       "    (_this#0)^2, (_this#0)*(_this#1), (_this#0)*(_this#2), (_this#0)*(_this#3),\n",
       "    (_this#0)*(_this#4), (_this#0)*(_this#5), (_this#1)^2, (_this#1)*(_this#2),\n",
       "    (_this#1)*(_this#3), (_this#1)*(_this#4), (_this#1)*(_this#5), (_this#2)^2,\n",
       "    (_this#2)*(_this#3), (_this#2)*(_this#4), (_this#2)*(_this#5), (_this#3)^2,\n",
       "    (_this#3)*(_this#4), (_this#3)*(_this#5), (_this#4)^2, (_this#4)*(_this#5),\n",
       "    (_this#5)^2]\n",
       "};\n",
       "\n",
       "_test_estimator_linreg = {\n",
       "    4.480465e-17*(_this#0) - 1.512462e-17*(_this#1) - 1.192622e-18*(_this#2) +\n",
       "    4.770490e-18*(_this#3) + 4.218835e-07*(_this#4) + 2.880030e-07*(_this#5) +\n",
       "    6.561057e-08*(_this#6) - 8.131516e-20*(_this#7) - 1.084202e-19*(_this#8) +\n",
       "    3.081488e-33*(_this#9) + 7.551714e-04*(_this#10) + 5.155254e-04*(_this#11) +\n",
       "    1.174429e-04*(_this#12) + 2.311116e-33*(_this#13) + 4.237046e-33*(_this#14)\n",
       "    + 5.526674e-04*(_this#15) + 3.772839e-04*(_this#16) +\n",
       "    8.594984e-05*(_this#17) + 8.015786e-06*(_this#19) + 5.472057e-06*(_this#20)\n",
       "    + 1.246601e-06*(_this#21) - 6.540086e-04*(_this#22) +\n",
       "    2.028522e-04*(_this#23) - 1.568895e-05*(_this#24) - 6.650353e-04*(_this#25)\n",
       "    - 2.561449e-04*(_this#26) + 3.550490e-04*(_this#27) - 2.726249e+03\n",
       "};\n",
       "\n",
       "_test_estimator = {\n",
       "    _this = _this call _test_estimator_polyfeat;\n",
       "    _this = _this call _test_estimator_linreg;\n",
       "    _this\n",
       "};\n",
       "\n",
       "```"
      ],
      "text/plain": [
       "<IPython.core.display.Markdown object>"
      ]
     },
     "execution_count": 4,
     "metadata": {},
     "output_type": "execute_result"
    }
   ],
   "source": [
    "display(Markdown('### Export Estimator\\n---'))\n",
    "sqf_code = export_estimator(pipe, \"_test_estimator\")\n",
    "Markdown(f'```c++\\n{sqf_code}\\n```')"
   ]
  },
  {
   "cell_type": "code",
   "execution_count": 5,
   "metadata": {},
   "outputs": [
    {
     "name": "stdout",
     "output_type": "stream",
     "text": [
      "Help on function export_estimator in module rega3.exporter:\n",
      "\n",
      "export_estimator(estimator, function_name, decimal_places=6, indent='    ', line_length=80)\n",
      "    Export trained regression model from Scikit-learn to SQF code.\n",
      "    \n",
      "    :param estimator: Fitted estimator to export_estimator.\n",
      "    :type estimator: sklearn.base.BaseEstimator\n",
      "    :param function_name: Name for the SQF function.\n",
      "    :type function_name: str\n",
      "    :param decimal_places: Number of decimal places for coefficients.\n",
      "        Defaults to 6.\n",
      "    :type decimal_places: int, optional\n",
      "    :param indent: The string used for indentations. Defaults to four spaces.\n",
      "    :type indent: str, optional\n",
      "    :param line_length: Maximum line length for the code. Defaults to 80.\n",
      "    :type line_length: int, optional\n",
      "\n"
     ]
    }
   ],
   "source": [
    "help(export_estimator)"
   ]
  },
  {
   "cell_type": "code",
   "execution_count": null,
   "metadata": {},
   "outputs": [],
   "source": []
  }
 ],
 "metadata": {
  "kernelspec": {
   "display_name": "Python 3",
   "language": "python",
   "name": "python3"
  },
  "language_info": {
   "codemirror_mode": {
    "name": "ipython",
    "version": 3
   },
   "file_extension": ".py",
   "mimetype": "text/x-python",
   "name": "python",
   "nbconvert_exporter": "python",
   "pygments_lexer": "ipython3",
   "version": "3.8.5"
  }
 },
 "nbformat": 4,
 "nbformat_minor": 4
}
