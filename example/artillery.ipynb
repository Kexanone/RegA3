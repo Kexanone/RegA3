{
 "cells": [
  {
   "cell_type": "code",
   "execution_count": 1,
   "metadata": {},
   "outputs": [],
   "source": [
    "%matplotlib widget\n",
    "from IPython.display import display, Markdown\n",
    "import os\n",
    "import numpy as np\n",
    "import pandas as pd\n",
    "from sklearn.datasets import load_boston\n",
    "from sklearn.preprocessing import PolynomialFeatures\n",
    "from sklearn.linear_model._base import LinearModel\n",
    "from sklearn.linear_model import LinearRegression, Ridge, Lasso, ElasticNet\n",
    "from sklearn.pipeline import Pipeline\n",
    "from sklearn.model_selection import cross_val_score, GridSearchCV, train_test_split\n",
    "from sklearn.metrics import make_scorer, r2_score, mean_squared_error, mean_absolute_error\n",
    "import matplotlib.pyplot as plt\n",
    "from rega3 import export_estimator"
   ]
  },
  {
   "cell_type": "code",
   "execution_count": 13,
   "metadata": {},
   "outputs": [
    {
     "data": {
      "text/markdown": [
       "### Load Data\n",
       "---"
      ],
      "text/plain": [
       "<IPython.core.display.Markdown object>"
      ]
     },
     "metadata": {},
     "output_type": "display_data"
    },
    {
     "name": "stdout",
     "output_type": "stream",
     "text": [
      "X.shape:\t(29, 2)\n",
      "X_train.shape:\t(20, 2)\n",
      "X_test.shape:\t(9, 2)\n"
     ]
    }
   ],
   "source": [
    "display(Markdown('### Load Data\\n---'))\n",
    "df_raw = pd.read_csv('ChosunOne_ArtilleryData.csv')\n",
    "df_raw['distance'] = np.sqrt((df_raw['Target Position X']-df_raw['Firing Position X'])**2 + (df_raw['Target Position Y']-df_raw['Firing Position Y'])**2)\n",
    "df_raw['height'] = df_raw['Target Elevation'] - df_raw['Firing Elevation']\n",
    "df = df_raw[['distance', 'height', 'Firing Angle']]\n",
    "X = df.iloc[:, :-1].values\n",
    "y = df.iloc[:, -1].values\n",
    "X_train, X_test, y_train, y_test = train_test_split(X, y, test_size=0.3, random_state=0)\n",
    "print('X.shape:', X.shape, sep='\\t')\n",
    "print('X_train.shape:', X_train.shape, sep='\\t')\n",
    "print('X_test.shape:', X_test.shape, sep='\\t')\n",
    "#df"
   ]
  },
  {
   "cell_type": "code",
   "execution_count": 14,
   "metadata": {},
   "outputs": [
    {
     "data": {
      "text/markdown": [
       "### Model Selection\n",
       "---"
      ],
      "text/plain": [
       "<IPython.core.display.Markdown object>"
      ]
     },
     "metadata": {},
     "output_type": "display_data"
    },
    {
     "name": "stdout",
     "output_type": "stream",
     "text": [
      "best_model: Pipeline(steps=[('polyfeat', PolynomialFeatures(degree=3)),\n",
      "                ('linreg',\n",
      "                 Ridge(alpha=1.2067926406393288e-06, normalize=True))])\n"
     ]
    }
   ],
   "source": [
    "display(Markdown('### Model Selection\\n---'))\n",
    "models = []\n",
    "polyfeat = PolynomialFeatures()\n",
    "for linreg in [LinearRegression(), Ridge(normalize=True)]:\n",
    "    pipe = Pipeline([('polyfeat', polyfeat), ('linreg', linreg)])\n",
    "    param_grid = {'polyfeat__degree': range(1, 5)}\n",
    "    if not isinstance(linreg, LinearRegression):\n",
    "        param_grid['linreg__alpha'] = np.logspace(-10, 0, 50)\n",
    "    search = GridSearchCV(pipe, param_grid, cv=5, n_jobs=12)\n",
    "    search.fit(X_train, y_train)\n",
    "    models.append((search.best_score_, search))\n",
    "best_model = max(models, key=lambda p: p[0])[1]\n",
    "print('best_model:', best_model.best_estimator_)"
   ]
  },
  {
   "cell_type": "code",
   "execution_count": 15,
   "metadata": {},
   "outputs": [
    {
     "data": {
      "text/markdown": [
       "### Test Model\n",
       "---"
      ],
      "text/plain": [
       "<IPython.core.display.Markdown object>"
      ]
     },
     "metadata": {},
     "output_type": "display_data"
    },
    {
     "name": "stdout",
     "output_type": "stream",
     "text": [
      "RMSE train: 0.367, test: 0.911\n",
      "R^2 train: 0.998, test: 0.992\n"
     ]
    }
   ],
   "source": [
    "display(Markdown('### Test Model\\n---'))\n",
    "y_train_pred = best_model.predict(X_train)\n",
    "y_test_pred = best_model.predict(X_test)\n",
    "print('RMSE train: %.3f, test: %.3f' % (np.sqrt(mean_squared_error(y_train, y_train_pred)), np.sqrt(mean_squared_error(y_test, y_test_pred))))\n",
    "print('R^2 train: %.3f, test: %.3f' % (r2_score(y_train, y_train_pred), r2_score(y_test, y_test_pred)))"
   ]
  },
  {
   "cell_type": "code",
   "execution_count": 16,
   "metadata": {},
   "outputs": [
    {
     "data": {
      "text/markdown": [
       "### Predict Unknown Point\n",
       "---"
      ],
      "text/plain": [
       "<IPython.core.display.Markdown object>"
      ]
     },
     "metadata": {},
     "output_type": "display_data"
    },
    {
     "name": "stdout",
     "output_type": "stream",
     "text": [
      "Prediction for [100, 0] : 77.2813525918423\n"
     ]
    }
   ],
   "source": [
    "display(Markdown('### Predict Unknown Point\\n---'))\n",
    "point = [100, 0]\n",
    "print('Prediction for', point, ':', best_model.predict([point])[0])"
   ]
  },
  {
   "cell_type": "code",
   "execution_count": 17,
   "metadata": {},
   "outputs": [
    {
     "data": {
      "text/markdown": [
       "### Export Estimator\n",
       "---"
      ],
      "text/plain": [
       "<IPython.core.display.Markdown object>"
      ]
     },
     "metadata": {},
     "output_type": "display_data"
    },
    {
     "data": {
      "text/markdown": [
       "```c++\n",
       "_test_estimator_polyfeat = {[\n",
       "    1, (_this#0), (_this#1), (_this#0)^2, (_this#0)*(_this#1), (_this#1)^2,\n",
       "    (_this#0)^3, (_this#0)^2*(_this#1), (_this#0)*(_this#1)^2, (_this#1)^3]\n",
       "};\n",
       "\n",
       "_test_estimator_linreg = {\n",
       "    -7.594683e-01*(_this#1) - 3.737601e-01*(_this#2) + 4.451657e-03*(_this#3) +\n",
       "    3.988812e-03*(_this#4) + 4.182825e-05*(_this#5) - 9.980068e-06*(_this#6) -\n",
       "    1.338557e-05*(_this#7) - 1.669852e-06*(_this#8) + 1.037233e-05*(_this#9) +\n",
       "    1.186917e+02\n",
       "};\n",
       "\n",
       "_test_estimator = {\n",
       "    _this = _this call _test_estimator_polyfeat;\n",
       "    _this = _this call _test_estimator_linreg;\n",
       "    _this\n",
       "};\n",
       "\n",
       "systemChat format [\"Prediction for [100, 0]: %1\", [100, 0] call _test_estimator];\n",
       "```"
      ],
      "text/plain": [
       "<IPython.core.display.Markdown object>"
      ]
     },
     "execution_count": 17,
     "metadata": {},
     "output_type": "execute_result"
    }
   ],
   "source": [
    "display(Markdown('### Export Estimator\\n---'))\n",
    "function_name = '_test_estimator'\n",
    "sqf_code = export_estimator(best_model, function_name)\n",
    "Markdown(f'```c++\\n{sqf_code}\\nsystemChat format [\"Prediction for {point}: %1\", {point} call {function_name}];\\n```')"
   ]
  },
  {
   "cell_type": "code",
   "execution_count": null,
   "metadata": {},
   "outputs": [],
   "source": []
  }
 ],
 "metadata": {
  "kernelspec": {
   "display_name": "Python 3",
   "language": "python",
   "name": "python3"
  },
  "language_info": {
   "codemirror_mode": {
    "name": "ipython",
    "version": 3
   },
   "file_extension": ".py",
   "mimetype": "text/x-python",
   "name": "python",
   "nbconvert_exporter": "python",
   "pygments_lexer": "ipython3",
   "version": "3.8.5"
  }
 },
 "nbformat": 4,
 "nbformat_minor": 4
}
